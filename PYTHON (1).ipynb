{
 "cells": [
  {
   "cell_type": "code",
   "execution_count": 3,
   "id": "823a60b9-e81c-4ded-8c9f-38e3f31bde7a",
   "metadata": {},
   "outputs": [
    {
     "name": "stdout",
     "output_type": "stream",
     "text": [
      "73\n",
      "-27\n",
      "1150\n"
     ]
    }
   ],
   "source": [
    "a=23\n",
    "b=50\n",
    "print(a+b)\n",
    "print(a-b)\n",
    "print(a*b)\n"
   ]
  },
  {
   "cell_type": "code",
   "execution_count": 1,
   "id": "cae20f85-3adf-4390-a8e0-95df8e375a11",
   "metadata": {},
   "outputs": [
    {
     "name": "stdin",
     "output_type": "stream",
     "text": [
      "enter any numerical value: 5\n",
      "enter any numerical value: 5\n"
     ]
    },
    {
     "name": "stdout",
     "output_type": "stream",
     "text": [
      "5\n",
      "3125\n",
      "<class 'int'>\n"
     ]
    }
   ],
   "source": [
    "a=int(input(\"enter any numerical value:\"))\n",
    "b=int(input(\"enter any numerical value:\"))\n",
    "print(a)\n",
    "print(a**b)\n",
    "print(type(a))"
   ]
  },
  {
   "cell_type": "code",
   "execution_count": 10,
   "id": "80267dfe-0001-45bc-ae71-c8e3ebe567c5",
   "metadata": {},
   "outputs": [
    {
     "name": "stdin",
     "output_type": "stream",
     "text": [
      "enter the name: jagath\n",
      "enter the age: 20\n"
     ]
    },
    {
     "name": "stdout",
     "output_type": "stream",
     "text": [
      "your name is jagath and the age is 20\n"
     ]
    }
   ],
   "source": [
    "name=input(\"enter the name:\")\n",
    "age=int(input('enter the age:'))\n",
    "print(f'your name is {name} and the age is {age}')"
   ]
  },
  {
   "cell_type": "code",
   "execution_count": 13,
   "id": "789f0255-55a8-40ae-b865-7b2b0e65034b",
   "metadata": {},
   "outputs": [
    {
     "name": "stdin",
     "output_type": "stream",
     "text": [
      "integer 50\n",
      "integer 100\n"
     ]
    },
    {
     "name": "stdout",
     "output_type": "stream",
     "text": [
      "True\n"
     ]
    }
   ],
   "source": [
    "aa=int(input(\"integer\"))\n",
    "bb=int(input(\"integer\"))\n",
    "print(aa<bb)"
   ]
  },
  {
   "cell_type": "code",
   "execution_count": 14,
   "id": "a76c59f7-cbd2-40b0-9ef0-a95e8e3dc6be",
   "metadata": {},
   "outputs": [
    {
     "name": "stdout",
     "output_type": "stream",
     "text": [
      "False\n",
      "True\n"
     ]
    }
   ],
   "source": [
    "print(2!=2)\n",
    "print(2==2)"
   ]
  },
  {
   "cell_type": "code",
   "execution_count": 20,
   "id": "3edd767b-8b66-4239-87c8-056e659f6eb3",
   "metadata": {},
   "outputs": [
    {
     "name": "stdout",
     "output_type": "stream",
     "text": [
      "True\n",
      "False\n"
     ]
    },
    {
     "data": {
      "text/plain": [
       "False"
      ]
     },
     "execution_count": 20,
     "metadata": {},
     "output_type": "execute_result"
    }
   ],
   "source": [
    "a=20\n",
    "b=15\n",
    "c=100\n",
    "print(c>b and c>b)\n",
    "print(c<b or c<b)\n",
    "not(c>b)"
   ]
  },
  {
   "cell_type": "code",
   "execution_count": 21,
   "id": "2117028b-da06-4752-952c-273500b3e0e4",
   "metadata": {},
   "outputs": [
    {
     "name": "stdout",
     "output_type": "stream",
     "text": [
      "True\n"
     ]
    }
   ],
   "source": [
    "a=200\n",
    "b=575\n",
    "c=400\n",
    "print(a>b and a<=c or b>c)"
   ]
  },
  {
   "cell_type": "code",
   "execution_count": 25,
   "id": "a54e694b-3df3-4b15-bf19-254b9b761bef",
   "metadata": {},
   "outputs": [
    {
     "name": "stdout",
     "output_type": "stream",
     "text": [
      "2\n"
     ]
    },
    {
     "data": {
      "text/plain": [
       "False"
      ]
     },
     "execution_count": 25,
     "metadata": {},
     "output_type": "execute_result"
    }
   ],
   "source": [
    "x=1\n",
    "y=2\n",
    "y!=x\n",
    "print(y)\n",
    "not(y)"
   ]
  },
  {
   "cell_type": "code",
   "execution_count": 45,
   "id": "30199581-56b6-444a-b8a1-0c33dc0149df",
   "metadata": {},
   "outputs": [
    {
     "name": "stdout",
     "output_type": "stream",
     "text": [
      "4\n",
      "M\n",
      "AIML\n",
      "AIML\n",
      "machine \n",
      "machine\n",
      "el en\n",
      "\n",
      "['AIML']\n",
      "['machine', 'learning']\n"
     ]
    }
   ],
   "source": [
    "a=\"AIML\"\n",
    "print(len(a))\n",
    "print(a[2])\n",
    "print(a[0:4:1])\n",
    "print(a[:5])\n",
    "b=\"machine learning\"\n",
    "print(b[0:8:1])\n",
    "print(b[0:7:1])\n",
    "print(b[9:4:-1])\n",
    "print(b[4:9:-1])\n",
    "print(a.split())\n",
    "print(b.split())\n"
   ]
  },
  {
   "cell_type": "code",
   "execution_count": 35,
   "id": "9fb67373-ff95-42a3-af20-37157709d286",
   "metadata": {},
   "outputs": [
    {
     "name": "stdout",
     "output_type": "stream",
     "text": [
      "Jagath Singh Rajput\n",
      "JagathJagathJagath\n"
     ]
    }
   ],
   "source": [
    "a=\"Jagath\"\n",
    "b=\" Singh\"\n",
    "c=\" Rajput\"\n",
    "print(a+b+c)\n",
    "print(a *3)"
   ]
  },
  {
   "cell_type": "code",
   "execution_count": 56,
   "id": "c9566e2f-adaa-44f0-bb36-e3fdad6ae1a2",
   "metadata": {},
   "outputs": [
    {
     "name": "stdout",
     "output_type": "stream",
     "text": [
      "Jagath singh\n",
      "singh\n",
      "jagath Singh\n"
     ]
    }
   ],
   "source": [
    "txt=\"jagath Singh\"\n",
    "c=\"SINGH\"\n",
    "print(txt.capitalize())\n",
    "print(c.casefold())\n",
    "type(c)\n",
    "print(txt.replace('singh','jagath'))"
   ]
  },
  {
   "cell_type": "code",
   "execution_count": 57,
   "id": "f55d1c99-9fac-4295-8ba5-b164601fa0a6",
   "metadata": {},
   "outputs": [
    {
     "name": "stdout",
     "output_type": "stream",
     "text": [
      "JAGATH SINGH\n",
      "['jagath', 'Singh']\n"
     ]
    }
   ],
   "source": [
    "print(txt.upper())\n",
    "print(txt.split())"
   ]
  },
  {
   "cell_type": "code",
   "execution_count": 32,
   "id": "c6f7615a-970a-46a7-8d21-415d6d36532a",
   "metadata": {},
   "outputs": [
    {
     "name": "stdout",
     "output_type": "stream",
     "text": [
      "[1, 3, 4, 45, 'hi', True, 3.0]\n",
      "['Accuracy', 'Precision', 'Recall']\n",
      "['ROC_Curve']\n",
      "['Precision', 'Recall']\n",
      "['Accuracy', 'Recall', 'ROC_Curve']\n",
      "['Accuracy']\n",
      "['Accuracy', 'Precision', 'Recall', 'F1-Score', 'ROC_Curve']\n",
      "['Accuracy', 'Recall', 'ROC_Curve']\n",
      "['ROC_Curve', 'F1-Score', 'Recall', 'Precision', 'Accuracy']\n",
      "['Accuracy']\n",
      "[]\n"
     ]
    }
   ],
   "source": [
    "first_lst=[1,3,4,45,\"hi\",True,3.0]\n",
    "print(first_lst)   \n",
    "\n",
    "Metrics=[\"Accuracy\",\"Precision\",\"Recall\",\"F1-Score\",\"ROC_Curve\"]\n",
    "print(Metrics[0:3])\n",
    "print(Metrics[-1:])\n",
    "print(Metrics[1:-2])\n",
    "print(Metrics[0:5:2])\n",
    "print(Metrics[0:3:3])\n",
    "print(Metrics[0:5:1])\n",
    "print(Metrics[0:5:2])\n",
    "print(Metrics[::-1])\n",
    "print(Metrics[:-1:4])\n",
    "print(Metrics[0:1:-1])"
   ]
  },
  {
   "cell_type": "code",
   "execution_count": 63,
   "id": "cb1c5e61-e776-4d39-8365-7ec8762e6044",
   "metadata": {},
   "outputs": [
    {
     "name": "stdout",
     "output_type": "stream",
     "text": [
      "['Accuracy', 'Precision', 'Recall', 'F1-Score', 'ROC_Curve', 'Pyhton', 'CRT', 'Pyhton', 'CRT', 'Pyhton', 'CRT', 'Pyhton', 'CRT', 'Pyhton', 'CRT', 'Pyton', 'CRT', 'Pyton', 'CRT', 'Python', 'CRT', 'Python', 'CRT', 'Python', 'CRT', 'Python', 'CRT', 'Python', 'CRT', 'Python', 'CRT', 'Python', 'CRT', 'Python', 'CRT', 'Python', 'CRT', 'Python', 'CRT', 'Python', 'CRT', 'Python', 'CRT', 'Python', 'CRT', 'Python', 'CRT', 'Python', 'CRT', 'Python', 'CRT', 'Python', 'CRT', 'Python', 'CRT', 'Python', 'CRT', 'Python', 'CRT', 'Python', 'CRT', 'Python', 'CRT', 'Python', 'CRT']\n",
      "python\n",
      "[1, 2, 3, 4, 5, 6, 7, 8, 10]\n",
      "None\n",
      "[1, 2, 3, 4, 5, 6, 7, 8, 10, 100, 'hi']\n",
      "[1, 2, 3, 4, 5, 6, 7, 8, 10, 'hi']\n",
      "[]\n"
     ]
    }
   ],
   "source": [
    "Metrics=Metrics+[\"Python\",\"CRT\"]\n",
    "print(Metrics)\n",
    "list=[1,2,3,4,5,6,7,8,\"python\"]\n",
    "print(list.pop())\n",
    "\n",
    "list.append(10)\n",
    "print(list)\n",
    "print(list.extend([100,\"hi\"]))\n",
    "print(list)\n",
    "\n",
    "list.remove(100)\n",
    "print(list)\n",
    "\n",
    "list.clear()\n",
    "print(list)"
   ]
  },
  {
   "cell_type": "code",
   "execution_count": 73,
   "id": "18cbead0-4705-4296-9edc-e8e797484e31",
   "metadata": {},
   "outputs": [
    {
     "name": "stdout",
     "output_type": "stream",
     "text": [
      "[1, 2, 3, 4, 5, 'hi']\n"
     ]
    }
   ],
   "source": [
    "a=[1,2,3,4,5]\n",
    "a.insert(5,\"hi\")\n",
    "print(a)"
   ]
  },
  {
   "cell_type": "code",
   "execution_count": 11,
   "id": "a3c47788-ef3d-44b7-bf57-789d6fd7c096",
   "metadata": {},
   "outputs": [
    {
     "name": "stdout",
     "output_type": "stream",
     "text": [
      "<class 'set'>\n",
      "<class 'dict'>\n"
     ]
    }
   ],
   "source": [
    "s={1,2,3,4,5,\"hi\"}\n",
    "print(type(s))\n",
    "p={}\n",
    "print(type(p))\n"
   ]
  },
  {
   "cell_type": "code",
   "execution_count": 5,
   "id": "b35b5792-9322-491a-9b51-bebe28e0696a",
   "metadata": {},
   "outputs": [
    {
     "name": "stdout",
     "output_type": "stream",
     "text": [
      "<class 'tuple'>\n",
      "<class 'set'>\n"
     ]
    }
   ],
   "source": [
    "s=()\n",
    "print(type(s))\n",
    "a=set()\n",
    "print(type(a))"
   ]
  },
  {
   "cell_type": "code",
   "execution_count": 13,
   "id": "97b1b41d-58a2-464b-b244-9db729eaf368",
   "metadata": {},
   "outputs": [
    {
     "name": "stdout",
     "output_type": "stream",
     "text": [
      "{0, 1, 100, 4, 56, 88}\n",
      "<class 'set'>\n"
     ]
    }
   ],
   "source": [
    "b={100,4,56,88,1,0}\n",
    "print(b)\n",
    "print(type(b))"
   ]
  },
  {
   "cell_type": "code",
   "execution_count": 17,
   "id": "8496859c-f436-427b-91ae-fd044bbfe293",
   "metadata": {},
   "outputs": [
    {
     "name": "stdout",
     "output_type": "stream",
     "text": [
      "{1, 100, 4, 56, 88}\n",
      "{2, 4, 5, 45, 85, 56, 95}\n"
     ]
    },
    {
     "data": {
      "text/plain": [
       "{1, 2, 4, 5, 45, 56, 85, 88, 95, 100}"
      ]
     },
     "execution_count": 17,
     "metadata": {},
     "output_type": "execute_result"
    }
   ],
   "source": [
    "b={100,4,56,88,1}\n",
    "print(b)\n",
    "c={2,5,4,45,56,85,95,100}\n",
    "c.discard(100)\n",
    "print(c)\n",
    "b|c #union combining the two sets"
   ]
  },
  {
   "cell_type": "code",
   "execution_count": 21,
   "id": "d5547031-48d1-4fa4-98c4-582e5524271d",
   "metadata": {},
   "outputs": [
    {
     "name": "stdout",
     "output_type": "stream",
     "text": [
      "{1, 4, 5, 100, 7, 8, 200, 'g', 'hi', 500, 'hello'}\n",
      "{'hi'}\n"
     ]
    }
   ],
   "source": [
    "a={\"hi\",1,5,7,8,\"hello\"}\n",
    "b={4,\"g\",\"hi\"}\n",
    "c={100,200,500}\n",
    "print(a|b|c)\n",
    "print(a&b)"
   ]
  },
  {
   "cell_type": "code",
   "execution_count": 27,
   "id": "5ca1f86f-e26f-4762-aa84-6370e62c2bfa",
   "metadata": {},
   "outputs": [
    {
     "name": "stdout",
     "output_type": "stream",
     "text": [
      "dict_keys(['A', 'B', 'C', 'D'])\n",
      "dict_values([10, 20, 30, 40])\n",
      "<class 'dict'>\n"
     ]
    }
   ],
   "source": [
    "d={'A':10,'B':20,'C':30,'D':40}\n",
    "print(d.keys())\n",
    "print(d.values())\n",
    "print(type(d))"
   ]
  },
  {
   "cell_type": "code",
   "execution_count": 9,
   "id": "4db91677-f7ea-48e0-a802-f16d641a1670",
   "metadata": {},
   "outputs": [
    {
     "name": "stdin",
     "output_type": "stream",
     "text": [
      "enter a number: 10\n"
     ]
    },
    {
     "name": "stdout",
     "output_type": "stream",
     "text": [
      "2 4 6 8 "
     ]
    }
   ],
   "source": [
    "n=int(input(\"enter a number:\"))\n",
    "for i in range(1,n):\n",
    "    if i%2==0:\n",
    "       print(i,end=\" \")"
   ]
  },
  {
   "cell_type": "code",
   "execution_count": null,
   "id": "1a2cbf64-7e8e-48b8-ac62-1626fb74f931",
   "metadata": {},
   "outputs": [],
   "source": []
  }
 ],
 "metadata": {
  "kernelspec": {
   "display_name": "Python 3 (ipykernel)",
   "language": "python",
   "name": "python3"
  },
  "language_info": {
   "codemirror_mode": {
    "name": "ipython",
    "version": 3
   },
   "file_extension": ".py",
   "mimetype": "text/x-python",
   "name": "python",
   "nbconvert_exporter": "python",
   "pygments_lexer": "ipython3",
   "version": "3.11.7"
  }
 },
 "nbformat": 4,
 "nbformat_minor": 5
}
